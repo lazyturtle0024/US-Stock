{
 "cells": [
  {
   "cell_type": "code",
   "execution_count": 1,
   "metadata": {},
   "outputs": [],
   "source": [
    "import re\n",
    "import json\n",
    "import csv\n",
    "from io import StringIO\n",
    "from bs4 import BeautifulSoup\n",
    "import requests\n",
    "import numpy as np\n",
    "import pandas as pd\n",
    "\n",
    "url_summary = 'https://finance.yahoo.com/quote/{}?p={}'"
   ]
  },
  {
   "cell_type": "code",
   "execution_count": 56,
   "metadata": {},
   "outputs": [],
   "source": [
    "stock_list = [\"AAPL\",\"BABA\",\"TSLA\"]"
   ]
  },
  {
   "cell_type": "code",
   "execution_count": null,
   "metadata": {},
   "outputs": [],
   "source": []
  },
  {
   "cell_type": "code",
   "execution_count": 68,
   "metadata": {},
   "outputs": [
    {
     "name": "stdout",
     "output_type": "stream",
     "text": [
      "None\n",
      "None\n",
      "None\n"
     ]
    },
    {
     "data": {
      "text/html": [
       "<div>\n",
       "<style scoped>\n",
       "    .dataframe tbody tr th:only-of-type {\n",
       "        vertical-align: middle;\n",
       "    }\n",
       "\n",
       "    .dataframe tbody tr th {\n",
       "        vertical-align: top;\n",
       "    }\n",
       "\n",
       "    .dataframe thead th {\n",
       "        text-align: right;\n",
       "    }\n",
       "</style>\n",
       "<table border=\"1\" class=\"dataframe\">\n",
       "  <thead>\n",
       "    <tr style=\"text-align: right;\">\n",
       "      <th></th>\n",
       "      <th>AAPL</th>\n",
       "      <th>BABA</th>\n",
       "      <th>TSLA</th>\n",
       "    </tr>\n",
       "  </thead>\n",
       "  <tbody>\n",
       "    <tr>\n",
       "      <th>Market Cap</th>\n",
       "      <td>2.244T</td>\n",
       "      <td>638.221B</td>\n",
       "      <td>627.292B</td>\n",
       "    </tr>\n",
       "    <tr>\n",
       "      <th>Beta (5Y Monthly)</th>\n",
       "      <td>1.30</td>\n",
       "      <td>1.03</td>\n",
       "      <td>2.15</td>\n",
       "    </tr>\n",
       "    <tr>\n",
       "      <th>PE Ratio (TTM)</th>\n",
       "      <td>40.23</td>\n",
       "      <td>23.85</td>\n",
       "      <td>1,265.33</td>\n",
       "    </tr>\n",
       "    <tr>\n",
       "      <th>EPS (TTM)</th>\n",
       "      <td>3.28</td>\n",
       "      <td>9.31</td>\n",
       "      <td>0.52</td>\n",
       "    </tr>\n",
       "    <tr>\n",
       "      <th>Earnings Date</th>\n",
       "      <td>Jan 26, 2021 - Feb 01, 2021</td>\n",
       "      <td>Feb 11, 2021 - Feb 15, 2021</td>\n",
       "      <td>Jan 27, 2021 - Feb 01, 2021</td>\n",
       "    </tr>\n",
       "    <tr>\n",
       "      <th>Forward Dividend &amp; Yield</th>\n",
       "      <td>0.82 (0.62%)</td>\n",
       "      <td>N/A (N/A)</td>\n",
       "      <td>N/A (N/A)</td>\n",
       "    </tr>\n",
       "    <tr>\n",
       "      <th>Ex-Dividend Date</th>\n",
       "      <td>Nov 06, 2020</td>\n",
       "      <td>N/A</td>\n",
       "      <td>N/A</td>\n",
       "    </tr>\n",
       "    <tr>\n",
       "      <th>1y Target Est</th>\n",
       "      <td>127.11</td>\n",
       "      <td>338.82</td>\n",
       "      <td>411.53</td>\n",
       "    </tr>\n",
       "  </tbody>\n",
       "</table>\n",
       "</div>"
      ],
      "text/plain": [
       "                                                 AAPL  \\\n",
       "Market Cap                                     2.244T   \n",
       "Beta (5Y Monthly)                                1.30   \n",
       "PE Ratio (TTM)                                  40.23   \n",
       "EPS (TTM)                                        3.28   \n",
       "Earnings Date             Jan 26, 2021 - Feb 01, 2021   \n",
       "Forward Dividend & Yield                 0.82 (0.62%)   \n",
       "Ex-Dividend Date                         Nov 06, 2020   \n",
       "1y Target Est                                  127.11   \n",
       "\n",
       "                                                 BABA  \\\n",
       "Market Cap                                   638.221B   \n",
       "Beta (5Y Monthly)                                1.03   \n",
       "PE Ratio (TTM)                                  23.85   \n",
       "EPS (TTM)                                        9.31   \n",
       "Earnings Date             Feb 11, 2021 - Feb 15, 2021   \n",
       "Forward Dividend & Yield                    N/A (N/A)   \n",
       "Ex-Dividend Date                                  N/A   \n",
       "1y Target Est                                  338.82   \n",
       "\n",
       "                                                 TSLA  \n",
       "Market Cap                                   627.292B  \n",
       "Beta (5Y Monthly)                                2.15  \n",
       "PE Ratio (TTM)                               1,265.33  \n",
       "EPS (TTM)                                        0.52  \n",
       "Earnings Date             Jan 27, 2021 - Feb 01, 2021  \n",
       "Forward Dividend & Yield                    N/A (N/A)  \n",
       "Ex-Dividend Date                                  N/A  \n",
       "1y Target Est                                  411.53  "
      ]
     },
     "execution_count": 68,
     "metadata": {},
     "output_type": "execute_result"
    }
   ],
   "source": [
    "lst = []\n",
    "\n",
    "for stock in stock_list:\n",
    "    response = requests.get(url_summary.format(stock,stock))\n",
    "    page_content = response.content\n",
    "    soup = BeautifulSoup(page_content, 'html.parser')\n",
    "    table = soup.find_all(\"table\" ,{\"class\" : \"W(100%) M(0) Bdcl(c)\"})\n",
    "    stock_summary = []\n",
    "    for t in table:\n",
    "        rows = t.find_all ('td')\n",
    "        for row in rows:\n",
    "            stock_summary.append(row.get_text())\n",
    "    stock_summary = np.array(stock_summary)\n",
    "\n",
    "    name = stock_summary[::2]\n",
    "    num = stock_summary[1::2]\n",
    "    \n",
    "    stock_name = \"stock_\"+str(stock)\n",
    "    stock_name= lst.append(pd.Series(num,index=name,name=stock))\n",
    "    \n",
    "    print(stock_name)\n",
    "   \n",
    "  \n",
    "pd.DataFrame(lst).T\n"
   ]
  },
  {
   "cell_type": "code",
   "execution_count": null,
   "metadata": {},
   "outputs": [],
   "source": []
  },
  {
   "cell_type": "code",
   "execution_count": null,
   "metadata": {},
   "outputs": [],
   "source": []
  },
  {
   "cell_type": "code",
   "execution_count": null,
   "metadata": {},
   "outputs": [],
   "source": []
  },
  {
   "cell_type": "code",
   "execution_count": null,
   "metadata": {},
   "outputs": [],
   "source": []
  },
  {
   "cell_type": "code",
   "execution_count": null,
   "metadata": {},
   "outputs": [],
   "source": []
  },
  {
   "cell_type": "code",
   "execution_count": null,
   "metadata": {},
   "outputs": [],
   "source": []
  },
  {
   "cell_type": "code",
   "execution_count": null,
   "metadata": {},
   "outputs": [],
   "source": []
  }
 ],
 "metadata": {
  "kernelspec": {
   "display_name": "Python 3",
   "language": "python",
   "name": "python3"
  },
  "language_info": {
   "codemirror_mode": {
    "name": "ipython",
    "version": 3
   },
   "file_extension": ".py",
   "mimetype": "text/x-python",
   "name": "python",
   "nbconvert_exporter": "python",
   "pygments_lexer": "ipython3",
   "version": "3.8.5"
  }
 },
 "nbformat": 4,
 "nbformat_minor": 4
}
